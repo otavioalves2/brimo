{
 "cells": [
  {
   "cell_type": "code",
   "execution_count": 1,
   "id": "d13b12c3",
   "metadata": {},
   "outputs": [],
   "source": [
    "import pandas as pd\n",
    "import matplotlib.pyplot as plt\n",
    "import numpy as np\n",
    "import nltk\n",
    "\n",
    "%matplotlib inline"
   ]
  },
  {
   "cell_type": "code",
   "execution_count": null,
   "id": "379f6065",
   "metadata": {},
   "outputs": [],
   "source": []
  },
  {
   "cell_type": "markdown",
   "id": "6d86e922",
   "metadata": {},
   "source": [
    "## Twint Config\n",
    "## Aqui armazenei em jsons 200 tweets de cada sentimento inicial, pesquisando pelo próprio nome do sentimento nas frases, usando o VSCode com esse regex pra pegar apenas os tweets ((?<=\"tweet\": )\"(.*?)\") vou transformar a saída disso em um array de tuplas ('frase', 'sentimento') para treinar inicialmente, mas depois irei fazer automatizado essa parte e aumentar nossa base, também tenho q remover todas as linhas que não forem em language pt\n",
    "### Configure\n",
    "c = twint.Config()\n",
    "c.Search = \"alegria\"\n",
    "c.Lowercase = True\n",
    "c.Links = 'exclude'\n",
    "c.Lang = \"pt\"\n",
    "c.Filter_retweets = True\n",
    "c.Limit = 200\n",
    "c.Store_json = True\n",
    "c.Output = \"alegria.json\"\n",
    "\n",
    "### Run\n",
    "twint.run.Search(c)\n",
    "\n",
    "### Configure\n",
    "c = twint.Config()\n",
    "c.Search = \"tristeza\"\n",
    "c.Lowercase = True\n",
    "c.Links = 'exclude'\n",
    "c.Lang = \"pt\"\n",
    "c.Filter_retweets = True\n",
    "c.Limit = 200\n",
    "c.Store_json = True\n",
    "c.Output = \"tristeza.json\"\n",
    "\n",
    "### Run\n",
    "twint.run.Search(c)\n",
    "\n",
    "### Configure\n",
    "c = twint.Config()\n",
    "c.Search = \"raiva\"\n",
    "c.Lowercase = True\n",
    "c.Links = 'exclude'\n",
    "c.Lang = \"pt\"\n",
    "c.Filter_retweets = True\n",
    "c.Limit = 200\n",
    "c.Store_json = True\n",
    "c.Output = \"raiva.json\"\n",
    "\n",
    "### Run\n",
    "twint.run.Search(c)\n",
    "\n",
    "### Configure\n",
    "c = twint.Config()\n",
    "c.Search = \"nojo\"\n",
    "c.Lowercase = True\n",
    "c.Links = 'exclude'\n",
    "c.Lang = \"pt\"\n",
    "c.Filter_retweets = True\n",
    "c.Limit = 200\n",
    "c.Store_json = True\n",
    "c.Output = \"nojo.json\"\n",
    "\n",
    "### Run\n",
    "twint.run.Search(c)\n",
    "\n",
    "### Configure\n",
    "c = twint.Config()\n",
    "c.Search = \"surpresa\"\n",
    "c.Lowercase = True\n",
    "c.Links = 'exclude'\n",
    "c.Lang = \"pt\"\n",
    "c.Filter_retweets = True\n",
    "c.Limit = 200\n",
    "c.Store_json = True\n",
    "c.Output = \"surpresa.json\"\n",
    "\n",
    "### Run\n",
    "twint.run.Search(c)\n",
    "\n",
    "### Configure\n",
    "c = twint.Config()\n",
    "c.Search = \"medo\"\n",
    "c.Lowercase = True\n",
    "c.Links = 'exclude'\n",
    "c.Lang = \"pt\"\n",
    "c.Filter_retweets = True\n",
    "c.Limit = 200\n",
    "c.Store_json = True\n",
    "c.Output = \"medo.json\"\n",
    "\n",
    "### Run\n",
    "twint.run.Search(c)"
   ]
  },
  {
   "cell_type": "code",
   "execution_count": 1,
   "id": "080d4def",
   "metadata": {},
   "outputs": [
    {
     "name": "stdout",
     "output_type": "stream",
     "text": [
      "[('este trabalho e agradável', 'alegria'), ('gosto de ficar no seu aconchego', 'alegria'), ('fiz a adesão ao curso hoje porque eu gostei', 'alegria'), ('eu sou admirada por muitos', 'alegria'), ('adoro como você é', 'alegria'), ('adoro a cor dos seus olhos', 'alegria'), ('nossa! isso é incrível', 'surpresa'), ('uau esse novo deck é foda', 'surpresa'), ('meu deus eu não sabia', 'surpresa'), ('meu deus como assim', 'surpresa'), ('íncrivel! esse novo videogame é demais', 'surpresa'), ('não acredito que você fez isso', 'surpresa'), ('desapontada mas não surpresa', 'tristeza'), ('cacete... sem palavras', 'surpresa'), ('simplesmente melhor dia da minha vida', 'alegria'), ('cruzes, o que é isso?', 'surpresa'), ('putz, mais um dia de luta', 'tristeza'), ('que final de semana da porra eu to exausto', 'tristeza'), ('o nojo que eu peguei de você é surreal, parabéns', 'nojo'), ('pelo menos consegui beber hoje', 'alegria'), ('que ódio não ser um sapatao criada por vó rica', 'raiva'), ('o momento mais tenebroso do domingo é o final de tarde', 'tédio')]\n"
     ]
    }
   ],
   "source": [
    "base_treinamento = [\n",
    "    ('este trabalho e agradável', 'alegria'),\n",
    "    ('gosto de ficar no seu aconchego', 'alegria'),\n",
    "    ('fiz a adesão ao curso hoje porque eu gostei', 'alegria'),\n",
    "    ('eu sou admirada por muitos', 'alegria'),\n",
    "    ('adoro como você é', 'alegria'),\n",
    "    ('adoro a cor dos seus olhos', 'alegria'),\n",
    "    ('nossa! isso é incrível', 'surpresa'),\n",
    "    ('uau esse novo deck é foda', 'surpresa'),\n",
    "    ('meu deus eu não sabia', 'surpresa'),\n",
    "    ('meu deus como assim', 'surpresa'),\n",
    "    ('íncrivel! esse novo videogame é demais', 'surpresa'),\n",
    "    ('não acredito que você fez isso', 'surpresa'),\n",
    "    ('desapontada mas não surpresa','tristeza'),\n",
    "    ('cacete... sem palavras','surpresa'),\n",
    "    ('simplesmente melhor dia da minha vida','alegria'),\n",
    "    ('cruzes, o que é isso?','surpresa'),\n",
    "    ('putz, mais um dia de luta','tristeza'),\n",
    "    ('que final de semana da porra eu to exausto', 'tristeza'),\n",
    "    ('o nojo que eu peguei de você é surreal, parabéns','nojo'),\n",
    "    ('pelo menos consegui beber hoje','alegria'),\n",
    "    ('que ódio não ser um sapatao criada por vó rica', 'raiva'),\n",
    "    ('o momento mais tenebroso do domingo é o final de tarde', 'tédio')\n",
    "]"
   ]
  },
  {
   "cell_type": "code",
   "execution_count": 3,
   "id": "19c9d74b",
   "metadata": {},
   "outputs": [],
   "source": [
    "exemplo_base = pd.DataFrame(base_treinamento)\n",
    "exemplo_base.columns = ['Frase', 'Sentimento']"
   ]
  },
  {
   "cell_type": "code",
   "execution_count": 4,
   "id": "d00f1cb7",
   "metadata": {},
   "outputs": [
    {
     "name": "stdout",
     "output_type": "stream",
     "text": [
      "Tamanho da base de Treinamento 22\n"
     ]
    },
    {
     "data": {
      "text/plain": [
       "alegria     8\n",
       "surpresa    8\n",
       "tristeza    3\n",
       "tédio       1\n",
       "raiva       1\n",
       "nojo        1\n",
       "Name: Sentimento, dtype: int64"
      ]
     },
     "execution_count": 4,
     "metadata": {},
     "output_type": "execute_result"
    }
   ],
   "source": [
    "print('Tamanho da base de Treinamento {}'.format(exemplo_base.shape[0]))\n",
    "exemplo_base.Sentimento.value_counts()"
   ]
  },
  {
   "cell_type": "code",
   "execution_count": null,
   "id": "4081622c",
   "metadata": {},
   "outputs": [],
   "source": []
  }
 ],
 "metadata": {
  "kernelspec": {
   "display_name": "Python 3",
   "language": "python",
   "name": "python3"
  },
  "language_info": {
   "codemirror_mode": {
    "name": "ipython",
    "version": 3
   },
   "file_extension": ".py",
   "mimetype": "text/x-python",
   "name": "python",
   "nbconvert_exporter": "python",
   "pygments_lexer": "ipython3",
   "version": "3.8.10"
  }
 },
 "nbformat": 4,
 "nbformat_minor": 5
}
